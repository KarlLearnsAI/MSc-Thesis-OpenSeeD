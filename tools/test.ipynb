{
 "cells": [
  {
   "cell_type": "markdown",
   "metadata": {},
   "source": [
    "# OpenSeeD embedding test\n",
    "This notebook demonstrates how to obtain text and pixel embeddings using the utilities in the `tools` package."
   ]
  },
  {
   "cell_type": "code",
   "metadata": {},
   "execution_count": null,
   "outputs": [],
   "source": [
    "from tools.openseed_dump_text import openseed_text\n",
    "emb = openseed_text(['example object'])\n",
    "print('text embedding shape:', emb.shape)"
   ]
  },
  {
   "cell_type": "code",
   "metadata": {},
   "execution_count": null,
   "outputs": [],
   "source": [
    "from tools.openseed_dump_pixels import load_model, pixel_features\n",
    "import torch\n",
    "\n",
    "img_path = '/home/jovyan/teaching_material/msc/MSc-Thesis/data/5LpN3gDmAk7_1/rgb/5LpN3gDmAk7_370.png'\n",
    "device = 'cuda' if torch.cuda.is_available() else 'cpu'\n",
    "model = load_model('configs/openseed/openseed_swinl_lang_decouple.yaml',\n                       'weights/openseed_swinl_pano_sota.pt', device)\n",
    "feats = pixel_features(model, img_path)\n",
    "print('pixel features shape:', feats.shape)  # should be (512,H,W)"
   ]
  }
 ],
 "metadata": {
  "kernelspec": {
   "display_name": "Python 3",
   "language": "python",
   "name": "python3"
  },
  "language_info": {
   "name": "python",
   "version": "3.8"
  }
 },
 "nbformat": 4,
 "nbformat_minor": 5
}
